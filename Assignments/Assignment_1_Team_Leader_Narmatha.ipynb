{
  "cells": [
    {
      "cell_type": "markdown",
      "id": "5634ccd3",
      "metadata": {
        "id": "5634ccd3"
      },
      "source": [
        "# Basic Python"
      ]
    },
    {
      "cell_type": "markdown",
      "id": "ebd19b64",
      "metadata": {
        "id": "ebd19b64"
      },
      "source": [
        "# 1. Split this string"
      ]
    },
    {
      "cell_type": "code",
      "execution_count": 29,
      "id": "8ec23399",
      "metadata": {
        "id": "8ec23399"
      },
      "outputs": [],
      "source": [
        "s = \"I am unique\""
      ]
    },
    {
      "cell_type": "code",
      "execution_count": 30,
      "id": "570d395d",
      "metadata": {
        "colab": {
          "base_uri": "https://localhost:8080/"
        },
        "id": "570d395d",
        "outputId": "c7d15c44-ccb0-4f78-bab8-c97f3c3cf135"
      },
      "outputs": [
        {
          "output_type": "stream",
          "name": "stdout",
          "text": [
            "['I', 'am', 'unique']\n"
          ]
        }
      ],
      "source": [
        "print(s.split())"
      ]
    },
    {
      "cell_type": "markdown",
      "id": "e1b8f20c",
      "metadata": {
        "id": "e1b8f20c"
      },
      "source": [
        "# 2. Use .format() to print the following string."
      ]
    },
    {
      "cell_type": "markdown",
      "id": "331e9dd4",
      "metadata": {
        "id": "331e9dd4"
      },
      "source": [
        "# Output should be: The diameter of Earth is 12742 kilometers."
      ]
    },
    {
      "cell_type": "code",
      "execution_count": 3,
      "id": "fd12ec34",
      "metadata": {
        "id": "fd12ec34"
      },
      "outputs": [],
      "source": [
        "planet = \"Earth\"\n",
        "diameter = 12742"
      ]
    },
    {
      "cell_type": "code",
      "execution_count": 4,
      "id": "3f8830fe",
      "metadata": {
        "colab": {
          "base_uri": "https://localhost:8080/"
        },
        "id": "3f8830fe",
        "outputId": "48113ecb-40a0-424d-e229-e58a16fe4b4f"
      },
      "outputs": [
        {
          "output_type": "stream",
          "name": "stdout",
          "text": [
            "The diameter of Earth is 12742 kilometers.\n"
          ]
        }
      ],
      "source": [
        "print(\"The diameter of {} is {} kilometers.\".format(planet,diameter))"
      ]
    },
    {
      "cell_type": "markdown",
      "id": "c48213be",
      "metadata": {
        "id": "c48213be"
      },
      "source": [
        "# 3. In this nest dictionary grab the word \"hello\""
      ]
    },
    {
      "cell_type": "code",
      "execution_count": 5,
      "id": "c348df9f",
      "metadata": {
        "id": "c348df9f"
      },
      "outputs": [],
      "source": [
        "d = {'k1':[1,2,3,{'tricky':['oh','man','inception',{'target':[1,2,3,'hello']}]}]}"
      ]
    },
    {
      "cell_type": "code",
      "execution_count": 6,
      "id": "78906bc9",
      "metadata": {
        "colab": {
          "base_uri": "https://localhost:8080/",
          "height": 36
        },
        "id": "78906bc9",
        "outputId": "afb80519-4a72-4138-d735-7d829fbec030"
      },
      "outputs": [
        {
          "output_type": "execute_result",
          "data": {
            "text/plain": [
              "'hello'"
            ],
            "application/vnd.google.colaboratory.intrinsic+json": {
              "type": "string"
            }
          },
          "metadata": {},
          "execution_count": 6
        }
      ],
      "source": [
        "d['k1'][3]['tricky'][3]['target'][3]"
      ]
    },
    {
      "cell_type": "markdown",
      "id": "b2518c05",
      "metadata": {
        "id": "b2518c05"
      },
      "source": [
        "# Numpy"
      ]
    },
    {
      "cell_type": "code",
      "execution_count": 7,
      "id": "fc2c9781",
      "metadata": {
        "id": "fc2c9781"
      },
      "outputs": [],
      "source": [
        "import numpy as np"
      ]
    },
    {
      "cell_type": "markdown",
      "id": "6b02ecfa",
      "metadata": {
        "id": "6b02ecfa"
      },
      "source": [
        "# 4.1 Create an array of 10 zeros?"
      ]
    },
    {
      "cell_type": "markdown",
      "id": "05274ff4",
      "metadata": {
        "id": "05274ff4"
      },
      "source": [
        "# 4.2 Create an array of 10 fives?"
      ]
    },
    {
      "cell_type": "code",
      "execution_count": 8,
      "id": "36fb8469",
      "metadata": {
        "id": "36fb8469"
      },
      "outputs": [],
      "source": [
        "a0=[0]*10"
      ]
    },
    {
      "cell_type": "code",
      "execution_count": 9,
      "id": "0c56c50a",
      "metadata": {
        "colab": {
          "base_uri": "https://localhost:8080/"
        },
        "id": "0c56c50a",
        "outputId": "9957a1aa-695b-4aea-81ac-cf96a7a2b4bf"
      },
      "outputs": [
        {
          "output_type": "stream",
          "name": "stdout",
          "text": [
            "[0, 0, 0, 0, 0, 0, 0, 0, 0, 0]\n"
          ]
        }
      ],
      "source": [
        "print(a0)"
      ]
    },
    {
      "cell_type": "code",
      "execution_count": 10,
      "id": "15f9cda5",
      "metadata": {
        "id": "15f9cda5"
      },
      "outputs": [],
      "source": [
        "a5=[5]*10"
      ]
    },
    {
      "cell_type": "code",
      "execution_count": 11,
      "id": "64a36036",
      "metadata": {
        "colab": {
          "base_uri": "https://localhost:8080/"
        },
        "id": "64a36036",
        "outputId": "011b58bc-5a75-453d-b496-27d9052b9988"
      },
      "outputs": [
        {
          "output_type": "stream",
          "name": "stdout",
          "text": [
            "[5, 5, 5, 5, 5, 5, 5, 5, 5, 5]\n"
          ]
        }
      ],
      "source": [
        "print(a5)"
      ]
    },
    {
      "cell_type": "markdown",
      "id": "32029cda",
      "metadata": {
        "id": "32029cda"
      },
      "source": [
        "# 5. Create an array of all the even integers from 20 to 35"
      ]
    },
    {
      "cell_type": "code",
      "execution_count": 12,
      "id": "cadc0731",
      "metadata": {
        "id": "cadc0731"
      },
      "outputs": [],
      "source": [
        "arr=np.arange(20,35,2)"
      ]
    },
    {
      "cell_type": "code",
      "execution_count": 13,
      "id": "0d6cb24b",
      "metadata": {
        "colab": {
          "base_uri": "https://localhost:8080/"
        },
        "id": "0d6cb24b",
        "outputId": "f037f2b2-5245-4771-9cea-2f824678092a"
      },
      "outputs": [
        {
          "output_type": "stream",
          "name": "stdout",
          "text": [
            "[20 22 24 26 28 30 32 34]\n"
          ]
        }
      ],
      "source": [
        "print(arr)"
      ]
    },
    {
      "cell_type": "markdown",
      "id": "ccfed740",
      "metadata": {
        "id": "ccfed740"
      },
      "source": [
        "# 6. Create a 3x3 matrix with values ranging from 0 to 8"
      ]
    },
    {
      "cell_type": "code",
      "execution_count": 14,
      "id": "b2f68598",
      "metadata": {
        "id": "b2f68598"
      },
      "outputs": [],
      "source": [
        "x =  np.arange(0,9).reshape((3,3))"
      ]
    },
    {
      "cell_type": "code",
      "execution_count": 15,
      "id": "416f1e44",
      "metadata": {
        "colab": {
          "base_uri": "https://localhost:8080/"
        },
        "id": "416f1e44",
        "outputId": "700bbbed-d121-4579-931b-4364ab734bcd"
      },
      "outputs": [
        {
          "output_type": "stream",
          "name": "stdout",
          "text": [
            "[[0 1 2]\n",
            " [3 4 5]\n",
            " [6 7 8]]\n"
          ]
        }
      ],
      "source": [
        "print(x)"
      ]
    },
    {
      "cell_type": "markdown",
      "id": "d6098ecf",
      "metadata": {
        "id": "d6098ecf"
      },
      "source": [
        "# 7. Concatenate a and b"
      ]
    },
    {
      "cell_type": "markdown",
      "id": "4bc10722",
      "metadata": {
        "id": "4bc10722"
      },
      "source": [
        "# a = np.array([1, 2, 3]), b = np.array([4, 5, 6])"
      ]
    },
    {
      "cell_type": "code",
      "execution_count": 16,
      "id": "67509592",
      "metadata": {
        "id": "67509592"
      },
      "outputs": [],
      "source": [
        "a = np.array([[1, 2, 3]])"
      ]
    },
    {
      "cell_type": "code",
      "execution_count": 17,
      "id": "1c0e1018",
      "metadata": {
        "id": "1c0e1018"
      },
      "outputs": [],
      "source": [
        "b = np.array([[4, 5, 6]])"
      ]
    },
    {
      "cell_type": "code",
      "execution_count": 18,
      "id": "a691f037",
      "metadata": {
        "colab": {
          "base_uri": "https://localhost:8080/"
        },
        "id": "a691f037",
        "outputId": "93ad0cd4-05df-47a4-e4be-8074eae879c9"
      },
      "outputs": [
        {
          "output_type": "execute_result",
          "data": {
            "text/plain": [
              "array([[1, 2, 3],\n",
              "       [4, 5, 6]])"
            ]
          },
          "metadata": {},
          "execution_count": 18
        }
      ],
      "source": [
        "np.concatenate((a,b),axis=0)"
      ]
    },
    {
      "cell_type": "markdown",
      "id": "a1ca5045",
      "metadata": {
        "id": "a1ca5045"
      },
      "source": [
        "# Pandas"
      ]
    },
    {
      "cell_type": "markdown",
      "id": "8b20062f",
      "metadata": {
        "id": "8b20062f"
      },
      "source": [
        "# 8. Create a dataframe with 3 rows and 2 columns"
      ]
    },
    {
      "cell_type": "code",
      "execution_count": 19,
      "id": "f8481fa5",
      "metadata": {
        "id": "f8481fa5"
      },
      "outputs": [],
      "source": [
        "import pandas as pd"
      ]
    },
    {
      "cell_type": "code",
      "execution_count": 26,
      "id": "3f1c273a",
      "metadata": {
        "id": "3f1c273a"
      },
      "outputs": [],
      "source": [
        "data = [['tara', 10], ['nayan', 15], ['maya', 14]]"
      ]
    },
    {
      "cell_type": "code",
      "execution_count": 27,
      "id": "ea074f7f",
      "metadata": {
        "id": "ea074f7f"
      },
      "outputs": [],
      "source": [
        "df = pd.DataFrame(data, columns=['Name', 'Age'])"
      ]
    },
    {
      "cell_type": "code",
      "execution_count": 28,
      "id": "88cc1bd3",
      "metadata": {
        "colab": {
          "base_uri": "https://localhost:8080/",
          "height": 143
        },
        "id": "88cc1bd3",
        "outputId": "c8bc0c7a-3887-4539-b7dc-fa2929afef33"
      },
      "outputs": [
        {
          "output_type": "execute_result",
          "data": {
            "text/plain": [
              "    Name  Age\n",
              "0   tara   10\n",
              "1  nayan   15\n",
              "2   maya   14"
            ],
            "text/html": [
              "\n",
              "  <div id=\"df-ef86ba31-5e7b-46cd-98ae-62674bcf58a6\">\n",
              "    <div class=\"colab-df-container\">\n",
              "      <div>\n",
              "<style scoped>\n",
              "    .dataframe tbody tr th:only-of-type {\n",
              "        vertical-align: middle;\n",
              "    }\n",
              "\n",
              "    .dataframe tbody tr th {\n",
              "        vertical-align: top;\n",
              "    }\n",
              "\n",
              "    .dataframe thead th {\n",
              "        text-align: right;\n",
              "    }\n",
              "</style>\n",
              "<table border=\"1\" class=\"dataframe\">\n",
              "  <thead>\n",
              "    <tr style=\"text-align: right;\">\n",
              "      <th></th>\n",
              "      <th>Name</th>\n",
              "      <th>Age</th>\n",
              "    </tr>\n",
              "  </thead>\n",
              "  <tbody>\n",
              "    <tr>\n",
              "      <th>0</th>\n",
              "      <td>tara</td>\n",
              "      <td>10</td>\n",
              "    </tr>\n",
              "    <tr>\n",
              "      <th>1</th>\n",
              "      <td>nayan</td>\n",
              "      <td>15</td>\n",
              "    </tr>\n",
              "    <tr>\n",
              "      <th>2</th>\n",
              "      <td>maya</td>\n",
              "      <td>14</td>\n",
              "    </tr>\n",
              "  </tbody>\n",
              "</table>\n",
              "</div>\n",
              "      <button class=\"colab-df-convert\" onclick=\"convertToInteractive('df-ef86ba31-5e7b-46cd-98ae-62674bcf58a6')\"\n",
              "              title=\"Convert this dataframe to an interactive table.\"\n",
              "              style=\"display:none;\">\n",
              "        \n",
              "  <svg xmlns=\"http://www.w3.org/2000/svg\" height=\"24px\"viewBox=\"0 0 24 24\"\n",
              "       width=\"24px\">\n",
              "    <path d=\"M0 0h24v24H0V0z\" fill=\"none\"/>\n",
              "    <path d=\"M18.56 5.44l.94 2.06.94-2.06 2.06-.94-2.06-.94-.94-2.06-.94 2.06-2.06.94zm-11 1L8.5 8.5l.94-2.06 2.06-.94-2.06-.94L8.5 2.5l-.94 2.06-2.06.94zm10 10l.94 2.06.94-2.06 2.06-.94-2.06-.94-.94-2.06-.94 2.06-2.06.94z\"/><path d=\"M17.41 7.96l-1.37-1.37c-.4-.4-.92-.59-1.43-.59-.52 0-1.04.2-1.43.59L10.3 9.45l-7.72 7.72c-.78.78-.78 2.05 0 2.83L4 21.41c.39.39.9.59 1.41.59.51 0 1.02-.2 1.41-.59l7.78-7.78 2.81-2.81c.8-.78.8-2.07 0-2.86zM5.41 20L4 18.59l7.72-7.72 1.47 1.35L5.41 20z\"/>\n",
              "  </svg>\n",
              "      </button>\n",
              "      \n",
              "  <style>\n",
              "    .colab-df-container {\n",
              "      display:flex;\n",
              "      flex-wrap:wrap;\n",
              "      gap: 12px;\n",
              "    }\n",
              "\n",
              "    .colab-df-convert {\n",
              "      background-color: #E8F0FE;\n",
              "      border: none;\n",
              "      border-radius: 50%;\n",
              "      cursor: pointer;\n",
              "      display: none;\n",
              "      fill: #1967D2;\n",
              "      height: 32px;\n",
              "      padding: 0 0 0 0;\n",
              "      width: 32px;\n",
              "    }\n",
              "\n",
              "    .colab-df-convert:hover {\n",
              "      background-color: #E2EBFA;\n",
              "      box-shadow: 0px 1px 2px rgba(60, 64, 67, 0.3), 0px 1px 3px 1px rgba(60, 64, 67, 0.15);\n",
              "      fill: #174EA6;\n",
              "    }\n",
              "\n",
              "    [theme=dark] .colab-df-convert {\n",
              "      background-color: #3B4455;\n",
              "      fill: #D2E3FC;\n",
              "    }\n",
              "\n",
              "    [theme=dark] .colab-df-convert:hover {\n",
              "      background-color: #434B5C;\n",
              "      box-shadow: 0px 1px 3px 1px rgba(0, 0, 0, 0.15);\n",
              "      filter: drop-shadow(0px 1px 2px rgba(0, 0, 0, 0.3));\n",
              "      fill: #FFFFFF;\n",
              "    }\n",
              "  </style>\n",
              "\n",
              "      <script>\n",
              "        const buttonEl =\n",
              "          document.querySelector('#df-ef86ba31-5e7b-46cd-98ae-62674bcf58a6 button.colab-df-convert');\n",
              "        buttonEl.style.display =\n",
              "          google.colab.kernel.accessAllowed ? 'block' : 'none';\n",
              "\n",
              "        async function convertToInteractive(key) {\n",
              "          const element = document.querySelector('#df-ef86ba31-5e7b-46cd-98ae-62674bcf58a6');\n",
              "          const dataTable =\n",
              "            await google.colab.kernel.invokeFunction('convertToInteractive',\n",
              "                                                     [key], {});\n",
              "          if (!dataTable) return;\n",
              "\n",
              "          const docLinkHtml = 'Like what you see? Visit the ' +\n",
              "            '<a target=\"_blank\" href=https://colab.research.google.com/notebooks/data_table.ipynb>data table notebook</a>'\n",
              "            + ' to learn more about interactive tables.';\n",
              "          element.innerHTML = '';\n",
              "          dataTable['output_type'] = 'display_data';\n",
              "          await google.colab.output.renderOutput(dataTable, element);\n",
              "          const docLink = document.createElement('div');\n",
              "          docLink.innerHTML = docLinkHtml;\n",
              "          element.appendChild(docLink);\n",
              "        }\n",
              "      </script>\n",
              "    </div>\n",
              "  </div>\n",
              "  "
            ]
          },
          "metadata": {},
          "execution_count": 28
        }
      ],
      "source": [
        "df"
      ]
    },
    {
      "cell_type": "markdown",
      "id": "910d0cfe",
      "metadata": {
        "id": "910d0cfe"
      },
      "source": [
        "# 9. Generate the series of dates from 1st Jan, 2023 to 10th Feb, 2023"
      ]
    },
    {
      "cell_type": "code",
      "execution_count": 23,
      "id": "8395ade3",
      "metadata": {
        "id": "8395ade3"
      },
      "outputs": [],
      "source": [
        "date = pd.date_range(start ='1-1-2023', \n",
        "         end ='02-10-2023')"
      ]
    },
    {
      "cell_type": "code",
      "execution_count": 24,
      "id": "30c5b1f8",
      "metadata": {
        "colab": {
          "base_uri": "https://localhost:8080/"
        },
        "id": "30c5b1f8",
        "outputId": "5270e91d-b5b4-47be-81e0-8d7b18c3a7e6"
      },
      "outputs": [
        {
          "output_type": "stream",
          "name": "stdout",
          "text": [
            "2023-01-01 00:00:00\n",
            "2023-01-02 00:00:00\n",
            "2023-01-03 00:00:00\n",
            "2023-01-04 00:00:00\n",
            "2023-01-05 00:00:00\n",
            "2023-01-06 00:00:00\n",
            "2023-01-07 00:00:00\n",
            "2023-01-08 00:00:00\n",
            "2023-01-09 00:00:00\n",
            "2023-01-10 00:00:00\n",
            "2023-01-11 00:00:00\n",
            "2023-01-12 00:00:00\n",
            "2023-01-13 00:00:00\n",
            "2023-01-14 00:00:00\n",
            "2023-01-15 00:00:00\n",
            "2023-01-16 00:00:00\n",
            "2023-01-17 00:00:00\n",
            "2023-01-18 00:00:00\n",
            "2023-01-19 00:00:00\n",
            "2023-01-20 00:00:00\n",
            "2023-01-21 00:00:00\n",
            "2023-01-22 00:00:00\n",
            "2023-01-23 00:00:00\n",
            "2023-01-24 00:00:00\n",
            "2023-01-25 00:00:00\n",
            "2023-01-26 00:00:00\n",
            "2023-01-27 00:00:00\n",
            "2023-01-28 00:00:00\n",
            "2023-01-29 00:00:00\n",
            "2023-01-30 00:00:00\n",
            "2023-01-31 00:00:00\n",
            "2023-02-01 00:00:00\n",
            "2023-02-02 00:00:00\n",
            "2023-02-03 00:00:00\n",
            "2023-02-04 00:00:00\n",
            "2023-02-05 00:00:00\n",
            "2023-02-06 00:00:00\n",
            "2023-02-07 00:00:00\n",
            "2023-02-08 00:00:00\n",
            "2023-02-09 00:00:00\n",
            "2023-02-10 00:00:00\n"
          ]
        }
      ],
      "source": [
        "for val in date:\n",
        "  print(val)"
      ]
    },
    {
      "cell_type": "markdown",
      "id": "d922d19f",
      "metadata": {
        "id": "d922d19f"
      },
      "source": [
        "# 10. Create 2D list to DataFrame"
      ]
    },
    {
      "cell_type": "markdown",
      "id": "ac012143",
      "metadata": {
        "id": "ac012143"
      },
      "source": [
        "# lists = [[1, 'aaa', 22], [2, 'bbb', 25], [3, 'ccc', 24]]"
      ]
    },
    {
      "cell_type": "code",
      "execution_count": 25,
      "id": "8097c94b",
      "metadata": {
        "id": "8097c94b"
      },
      "outputs": [],
      "source": [
        "lists = [[1, 'aaa', 22], [2, 'bbb', 25], [3, 'ccc', 24]]"
      ]
    },
    {
      "cell_type": "code",
      "execution_count": 31,
      "id": "f2d3bd38",
      "metadata": {
        "id": "f2d3bd38"
      },
      "outputs": [],
      "source": [
        "df = pd.DataFrame(lists, columns =['Rollno','Name', 'Age'])"
      ]
    },
    {
      "cell_type": "code",
      "execution_count": 32,
      "id": "dc87681b",
      "metadata": {
        "colab": {
          "base_uri": "https://localhost:8080/"
        },
        "id": "dc87681b",
        "outputId": "04fa6348-d117-49bb-ad7b-2b8a4702f1fb"
      },
      "outputs": [
        {
          "output_type": "stream",
          "name": "stdout",
          "text": [
            "   Rollno Name  Age\n",
            "0       1  aaa   22\n",
            "1       2  bbb   25\n",
            "2       3  ccc   24\n"
          ]
        }
      ],
      "source": [
        "print(df)"
      ]
    }
  ],
  "metadata": {
    "kernelspec": {
      "display_name": "Python 3 (ipykernel)",
      "language": "python",
      "name": "python3"
    },
    "language_info": {
      "codemirror_mode": {
        "name": "ipython",
        "version": 3
      },
      "file_extension": ".py",
      "mimetype": "text/x-python",
      "name": "python",
      "nbconvert_exporter": "python",
      "pygments_lexer": "ipython3",
      "version": "3.9.12"
    },
    "colab": {
      "provenance": []
    }
  },
  "nbformat": 4,
  "nbformat_minor": 5
}